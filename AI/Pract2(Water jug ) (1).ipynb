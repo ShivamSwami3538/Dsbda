{
 "cells": [
  {
   "cell_type": "code",
   "execution_count": 6,
   "id": "8e5d506a-aab5-432a-8a39-0174402eec7f",
   "metadata": {},
   "outputs": [
    {
     "name": "stdout",
     "output_type": "stream",
     "text": [
      "Jug1: 0L, Jug2: 0L\n",
      "Jug1: 4L, Jug2: 0L\n",
      "Jug1: 0L, Jug2: 3L\n",
      "Jug1: 4L, Jug2: 3L\n",
      "Jug1: 1L, Jug2: 3L\n",
      "Jug1: 4L, Jug2: 3L\n",
      "Jug1: 3L, Jug2: 0L\n",
      "Jug1: 1L, Jug2: 0L\n",
      "Jug1: 3L, Jug2: 3L\n",
      "Jug1: 0L, Jug2: 1L\n",
      "Jug1: 4L, Jug2: 2L\n",
      "Target reached!\n"
     ]
    }
   ],
   "source": [
    "from collections import deque\n",
    "\n",
    "def water_jug_bfs(jug1, jug2, target):\n",
    "    visited = set()\n",
    "    queue = deque()\n",
    "    queue.append((0, 0))  # start state\n",
    "\n",
    "    while queue:\n",
    "        a, b = queue.popleft()\n",
    "        print(f\"Jug1: {a}L, Jug2: {b}L\")\n",
    "\n",
    "        if a == target or b == target:\n",
    "            print(\"Target reached!\")\n",
    "            return\n",
    "\n",
    "        if (a, b) in visited:\n",
    "            continue\n",
    "\n",
    "        visited.add((a, b))\n",
    "\n",
    "        # Generate all possible states\n",
    "        possible_states = [\n",
    "            (jug1, b),  # Fill jug1\n",
    "            (a, jug2),  # Fill jug2\n",
    "            (0, b),     # Empty jug1\n",
    "            (a, 0),     # Empty jug2\n",
    "            (a - min(a, jug2 - b), b + min(a, jug2 - b)),  # Pour jug1 -> jug2\n",
    "            (a + min(b, jug1 - a), b - min(b, jug1 - a))   # Pour jug2 -> jug1\n",
    "        ]\n",
    "\n",
    "        for state in possible_states:\n",
    "            if state not in visited:\n",
    "                queue.append(state)\n",
    "\n",
    "# Example usage\n",
    "water_jug_bfs(4, 3, 2)\n"
   ]
  },
  {
   "cell_type": "code",
   "execution_count": null,
   "id": "6600b1e1-87b7-4ad1-99f5-3d1b2c59087d",
   "metadata": {},
   "outputs": [],
   "source": []
  }
 ],
 "metadata": {
  "kernelspec": {
   "display_name": "Python 3 (ipykernel)",
   "language": "python",
   "name": "python3"
  },
  "language_info": {
   "codemirror_mode": {
    "name": "ipython",
    "version": 3
   },
   "file_extension": ".py",
   "mimetype": "text/x-python",
   "name": "python",
   "nbconvert_exporter": "python",
   "pygments_lexer": "ipython3",
   "version": "3.12.7"
  }
 },
 "nbformat": 4,
 "nbformat_minor": 5
}
