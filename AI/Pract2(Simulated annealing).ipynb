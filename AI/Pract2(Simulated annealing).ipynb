{
 "cells": [
  {
   "cell_type": "code",
   "execution_count": 1,
   "id": "5a5e3535-9b3b-4d92-aac1-b53f73088733",
   "metadata": {},
   "outputs": [
    {
     "name": "stdout",
     "output_type": "stream",
     "text": [
      "\n",
      "Simulated Annealing Solution:\n",
      ". . Q . . . . .\n",
      ". . . . Q . . .\n",
      ". . . . . . Q .\n",
      "Q . . . . . . .\n",
      ". . . Q . . . .\n",
      ". Q . . . . . .\n",
      ". . . . . . . Q\n",
      ". . . . . Q . .\n"
     ]
    }
   ],
   "source": [
    "import random\n",
    "import math\n",
    "\n",
    "def initial_state(n):\n",
    "    \"\"\"Generate a random initial state with one queen per column.\"\"\"\n",
    "    return [random.randint(0, n - 1) for _ in range(n)]\n",
    "\n",
    "def calculate_conflicts(state):\n",
    "    \"\"\"Count the number of conflicting queen pairs.\"\"\"\n",
    "    conflicts = 0\n",
    "    n = len(state)\n",
    "    for i in range(n):\n",
    "        for j in range(i + 1, n):\n",
    "            if state[i] == state[j] or abs(state[i] - state[j]) == abs(i - j):\n",
    "                conflicts += 1\n",
    "    return conflicts\n",
    "\n",
    "def get_neighbor(state):\n",
    "    \"\"\"Generate a neighboring state by moving one queen to a new row in its column.\"\"\"\n",
    "    n = len(state)\n",
    "    new_state = state.copy()\n",
    "    col = random.randint(0, n - 1)\n",
    "    new_row = random.randint(0, n - 1)\n",
    "    while new_row == state[col]:\n",
    "        new_row = random.randint(0, n - 1)\n",
    "    new_state[col] = new_row\n",
    "    return new_state\n",
    "\n",
    "def simulated_annealing(n, max_iterations=10000, initial_temp=100.0, cooling_rate=0.003):\n",
    "    current = initial_state(n)\n",
    "    current_cost = calculate_conflicts(current)\n",
    "    temperature = initial_temp\n",
    "\n",
    "    for step in range(max_iterations):\n",
    "        if current_cost == 0:\n",
    "            return current  # Solution found\n",
    "\n",
    "        neighbor = get_neighbor(current)\n",
    "        neighbor_cost = calculate_conflicts(neighbor)\n",
    "\n",
    "        delta = neighbor_cost - current_cost\n",
    "\n",
    "        if delta < 0 or random.uniform(0, 1) < math.exp(-delta / temperature):\n",
    "            current = neighbor\n",
    "            current_cost = neighbor_cost\n",
    "\n",
    "        temperature *= (1 - cooling_rate)\n",
    "\n",
    "    return current  # Best effort after max iterations\n",
    "\n",
    "def print_board(state):\n",
    "    \"\"\"Print the N-Queens board representation.\"\"\"\n",
    "    n = len(state)\n",
    "    for i in range(n):\n",
    "        row = ['Q' if state[j] == i else '.' for j in range(n)]\n",
    "        print(' '.join(row))\n",
    "\n",
    "# Run the simulation\n",
    "n = 8\n",
    "solution = simulated_annealing(n)\n",
    "print(\"\\nSimulated Annealing Solution:\")\n",
    "print_board(solution)\n"
   ]
  },
  {
   "cell_type": "code",
   "execution_count": null,
   "id": "a15b758a-6126-4264-9f1b-483970ef0caf",
   "metadata": {},
   "outputs": [],
   "source": []
  }
 ],
 "metadata": {
  "kernelspec": {
   "display_name": "Python 3 (ipykernel)",
   "language": "python",
   "name": "python3"
  },
  "language_info": {
   "codemirror_mode": {
    "name": "ipython",
    "version": 3
   },
   "file_extension": ".py",
   "mimetype": "text/x-python",
   "name": "python",
   "nbconvert_exporter": "python",
   "pygments_lexer": "ipython3",
   "version": "3.12.7"
  }
 },
 "nbformat": 4,
 "nbformat_minor": 5
}
