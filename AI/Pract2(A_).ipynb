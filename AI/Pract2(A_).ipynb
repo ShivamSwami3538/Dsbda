{
 "cells": [
  {
   "cell_type": "code",
   "execution_count": 13,
   "id": "344ab347-8778-439c-b0d9-e4a887b8d9fa",
   "metadata": {},
   "outputs": [
    {
     "name": "stdin",
     "output_type": "stream",
     "text": [
      "Enter the number of queens (N):  1\n"
     ]
    },
    {
     "name": "stdout",
     "output_type": "stream",
     "text": [
      "A* Algorithm Solution:\n",
      "Q \n",
      "\n"
     ]
    }
   ],
   "source": [
    "import heapq\n",
    "\n",
    "class Node:\n",
    "    def __init__(self, state, g):\n",
    "        self.state = state  # state is a list where index = row, value = column\n",
    "        self.g = g  # number of queens placed\n",
    "        self.h = self.heuristic()\n",
    "        self.f = self.g + self.h\n",
    "\n",
    "    def heuristic(self):\n",
    "        # Count the number of attacking pairs\n",
    "        conflicts = 0\n",
    "        for i in range(len(self.state)):\n",
    "            for j in range(i + 1, len(self.state)):\n",
    "                if self.state[i] == self.state[j] or abs(self.state[i] - self.state[j]) == abs(i - j):\n",
    "                    conflicts += 1\n",
    "        return conflicts\n",
    "\n",
    "    def __lt__(self, other):\n",
    "        return self.f < other.f\n",
    "\n",
    "def is_valid(state, row, col):\n",
    "    for r in range(row):\n",
    "        c = state[r]\n",
    "        if c == col or abs(row - r) == abs(col - c):\n",
    "            return False\n",
    "    return True\n",
    "\n",
    "def a_star_n_queens(n):\n",
    "    open_list = []\n",
    "    root = Node([], 0)\n",
    "    heapq.heappush(open_list, root)\n",
    "\n",
    "    while open_list:\n",
    "        current = heapq.heappop(open_list)\n",
    "        row = len(current.state)\n",
    "\n",
    "        if row == n:\n",
    "            return current.state  # Found complete solution\n",
    "\n",
    "        for col in range(n):\n",
    "            if is_valid(current.state, row, col):\n",
    "                new_state = current.state + [col]\n",
    "                heapq.heappush(open_list, Node(new_state, current.g + 1))\n",
    "\n",
    "    return None  # No solution found\n",
    "\n",
    "def print_board(state):\n",
    "    n = len(state)\n",
    "    for row in range(n):\n",
    "        line = \"\"\n",
    "        for col in range(n):\n",
    "            line += \"Q \" if state[row] == col else \". \"\n",
    "        print(line)\n",
    "    print()\n",
    "\n",
    "# Main\n",
    "if __name__ == \"__main__\":\n",
    "    N = int(input(\"Enter the number of queens (N): \"))\n",
    "    solution = a_star_n_queens(N)\n",
    "    if solution:\n",
    "        print(\"A* Algorithm Solution:\")\n",
    "        print_board(solution)\n",
    "    else:\n",
    "        print(\"No solution found.\")\n"
   ]
  },
  {
   "cell_type": "code",
   "execution_count": null,
   "id": "e9cc71f9-a716-44fc-8b6c-3e3192e97f92",
   "metadata": {},
   "outputs": [],
   "source": []
  },
  {
   "cell_type": "code",
   "execution_count": null,
   "id": "c9f50735-fd78-48f6-bfca-a2bac5b3f5af",
   "metadata": {},
   "outputs": [],
   "source": []
  }
 ],
 "metadata": {
  "kernelspec": {
   "display_name": "Python 3 (ipykernel)",
   "language": "python",
   "name": "python3"
  },
  "language_info": {
   "codemirror_mode": {
    "name": "ipython",
    "version": 3
   },
   "file_extension": ".py",
   "mimetype": "text/x-python",
   "name": "python",
   "nbconvert_exporter": "python",
   "pygments_lexer": "ipython3",
   "version": "3.12.7"
  }
 },
 "nbformat": 4,
 "nbformat_minor": 5
}
