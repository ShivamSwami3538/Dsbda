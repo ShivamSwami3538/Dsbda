{
 "cells": [
  {
   "cell_type": "code",
   "execution_count": 1,
   "id": "2867af0d-e0a0-4d9c-a234-e5e75a789c23",
   "metadata": {},
   "outputs": [
    {
     "name": "stdout",
     "output_type": "stream",
     "text": [
      "Initial Array: [5, 3, 8, 4, 2]\n",
      "Rule: If 5 > 3 -> Swap them\n",
      "Rule: If 8 > 4 -> Swap them\n",
      "Rule: If 8 > 2 -> Swap them\n",
      "After pass: [3, 5, 4, 2, 8]\n",
      "Rule: If 5 > 4 -> Swap them\n",
      "Rule: If 5 > 2 -> Swap them\n",
      "After pass: [3, 4, 2, 5, 8]\n",
      "Rule: If 4 > 2 -> Swap them\n",
      "After pass: [3, 2, 4, 5, 8]\n",
      "Rule: If 3 > 2 -> Swap them\n",
      "After pass: [2, 3, 4, 5, 8]\n",
      "After pass: [2, 3, 4, 5, 8]\n",
      "\n",
      "Final Sorted Array: [2, 3, 4, 5, 8]\n",
      "Total rules applied (swaps): 7\n"
     ]
    },
    {
     "data": {
      "text/plain": [
       "[2, 3, 4, 5, 8]"
      ]
     },
     "execution_count": 1,
     "metadata": {},
     "output_type": "execute_result"
    }
   ],
   "source": [
    "def rule_based_sort(arr):\n",
    "    rules_applied = 0\n",
    "    n = len(arr)\n",
    "    sorted_flag = False\n",
    "\n",
    "    print(\"Initial Array:\", arr)\n",
    "\n",
    "    while not sorted_flag:\n",
    "        sorted_flag = True  # Assume it's sorted\n",
    "        for i in range(n - 1):\n",
    "            # Rule: If item[i] > item[i+1], then swap\n",
    "            if arr[i] > arr[i + 1]:\n",
    "                print(f\"Rule: If {arr[i]} > {arr[i+1]} -> Swap them\")\n",
    "                arr[i], arr[i + 1] = arr[i + 1], arr[i]\n",
    "                rules_applied += 1\n",
    "                sorted_flag = False\n",
    "        print(\"After pass:\", arr)\n",
    "\n",
    "    print(\"\\nFinal Sorted Array:\", arr)\n",
    "    print(\"Total rules applied (swaps):\", rules_applied)\n",
    "    return arr\n",
    "\n",
    "# Example usage\n",
    "data = [5, 3, 8, 4, 2]\n",
    "rule_based_sort(data)\n"
   ]
  },
  {
   "cell_type": "code",
   "execution_count": null,
   "id": "f7292348-8c68-4886-bd68-1c90c9cada7f",
   "metadata": {},
   "outputs": [],
   "source": []
  }
 ],
 "metadata": {
  "kernelspec": {
   "display_name": "Python 3 (ipykernel)",
   "language": "python",
   "name": "python3"
  },
  "language_info": {
   "codemirror_mode": {
    "name": "ipython",
    "version": 3
   },
   "file_extension": ".py",
   "mimetype": "text/x-python",
   "name": "python",
   "nbconvert_exporter": "python",
   "pygments_lexer": "ipython3",
   "version": "3.12.7"
  }
 },
 "nbformat": 4,
 "nbformat_minor": 5
}
