{
 "cells": [
  {
   "cell_type": "code",
   "execution_count": 2,
   "id": "2f43dd1d-e60b-4090-8d72-cdd2840e95ed",
   "metadata": {},
   "outputs": [
    {
     "name": "stdout",
     "output_type": "stream",
     "text": [
      "Solution: [3, 5, 7, 1, 4, 0, 2, 6]\n",
      "Conflicts: 1\n",
      ". . . Q . . . .\n",
      ". . . . . Q . .\n",
      ". . . . . . . Q\n",
      ". Q . . . . . .\n",
      ". . . . Q . . .\n",
      "Q . . . . . . .\n",
      ". . Q . . . . .\n",
      ". . . . . . Q .\n"
     ]
    }
   ],
   "source": [
    "import random\n",
    "\n",
    "def print_board(board):\n",
    "    for row in board:\n",
    "        print(\" \".join(\"Q\" if i == row else \".\" for i in range(len(board))))\n",
    "\n",
    "def random_board(n):\n",
    "    return [random.randint(0, n - 1) for _ in range(n)]\n",
    "\n",
    "def compute_conflicts(board):\n",
    "    n = len(board)\n",
    "    conflicts = 0\n",
    "    for i in range(n):\n",
    "        for j in range(i + 1, n):\n",
    "            if board[i] == board[j] or abs(board[i] - board[j]) == abs(i - j):\n",
    "                conflicts += 1\n",
    "    return conflicts\n",
    "\n",
    "def hill_climbing(n):\n",
    "    current = random_board(n)\n",
    "    current_conflicts = compute_conflicts(current)\n",
    "\n",
    "    while True:\n",
    "        neighbors = []\n",
    "        for col in range(n):\n",
    "            for row in range(n):\n",
    "                if row != current[col]:\n",
    "                    neighbor = list(current)\n",
    "                    neighbor[col] = row\n",
    "                    neighbors.append((neighbor, compute_conflicts(neighbor)))\n",
    "\n",
    "        best_neighbor, best_conflicts = min(neighbors, key=lambda x: x[1])\n",
    "\n",
    "        if best_conflicts >= current_conflicts:\n",
    "            break\n",
    "        current = best_neighbor\n",
    "        current_conflicts = best_conflicts\n",
    "\n",
    "    return current, current_conflicts\n",
    "\n",
    "# Example\n",
    "n = 8\n",
    "solution, conflicts = hill_climbing(n)\n",
    "print(\"Solution:\", solution)\n",
    "print(\"Conflicts:\", conflicts)\n",
    "print_board(solution)\n"
   ]
  },
  {
   "cell_type": "code",
   "execution_count": null,
   "id": "d4dc749c-6937-4f1b-81fc-474e20defce5",
   "metadata": {},
   "outputs": [],
   "source": []
  }
 ],
 "metadata": {
  "kernelspec": {
   "display_name": "Python 3 (ipykernel)",
   "language": "python",
   "name": "python3"
  },
  "language_info": {
   "codemirror_mode": {
    "name": "ipython",
    "version": 3
   },
   "file_extension": ".py",
   "mimetype": "text/x-python",
   "name": "python",
   "nbconvert_exporter": "python",
   "pygments_lexer": "ipython3",
   "version": "3.12.7"
  }
 },
 "nbformat": 4,
 "nbformat_minor": 5
}
