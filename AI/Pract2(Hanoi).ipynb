{
 "cells": [
  {
   "cell_type": "code",
   "execution_count": 2,
   "id": "8a110924-8993-4afe-9b23-6db30dadbb1b",
   "metadata": {},
   "outputs": [
    {
     "name": "stdout",
     "output_type": "stream",
     "text": [
      "Move disk 1 from A to C\n",
      "Move disk 2 from A to B\n",
      "Move disk 1 from C to B\n",
      "Move disk 3 from A to C\n",
      "Move disk 1 from B to A\n",
      "Move disk 2 from B to C\n",
      "Move disk 1 from A to C\n"
     ]
    }
   ],
   "source": [
    "def towers_of_hanoi(n, source, auxiliary, target):\n",
    "    if n == 1:\n",
    "        print(f\"Move disk 1 from {source} to {target}\")\n",
    "        return\n",
    "    towers_of_hanoi(n - 1, source, target, auxiliary)\n",
    "    print(f\"Move disk {n} from {source} to {target}\")\n",
    "    towers_of_hanoi(n - 1, auxiliary, source, target)\n",
    "\n",
    "# Example usage\n",
    "towers_of_hanoi(3, 'A', 'B', 'C')\n"
   ]
  },
  {
   "cell_type": "code",
   "execution_count": null,
   "id": "e5d7d2ef-f64b-49b7-903a-039c0862e11d",
   "metadata": {},
   "outputs": [],
   "source": []
  }
 ],
 "metadata": {
  "kernelspec": {
   "display_name": "Python 3 (ipykernel)",
   "language": "python",
   "name": "python3"
  },
  "language_info": {
   "codemirror_mode": {
    "name": "ipython",
    "version": 3
   },
   "file_extension": ".py",
   "mimetype": "text/x-python",
   "name": "python",
   "nbconvert_exporter": "python",
   "pygments_lexer": "ipython3",
   "version": "3.12.7"
  }
 },
 "nbformat": 4,
 "nbformat_minor": 5
}
