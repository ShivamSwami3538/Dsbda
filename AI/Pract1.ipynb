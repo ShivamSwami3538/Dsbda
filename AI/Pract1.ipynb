{
 "cells": [
  {
   "cell_type": "code",
   "execution_count": 33,
   "id": "89a933dd-fcfd-4751-81c0-6dbabf108988",
   "metadata": {},
   "outputs": [
    {
     "name": "stdout",
     "output_type": "stream",
     "text": [
      "Path: [0, 1, 3, 2, 0]\n",
      "Total cost: 33\n"
     ]
    }
   ],
   "source": [
    "import numpy as np\n",
    "\n",
    "def tsp_nearest_neighbor(dist_matrix, start=0):\n",
    "    n = len(dist_matrix)\n",
    "    visited = [False] * n\n",
    "    path = [start]\n",
    "    total_cost = 0\n",
    "    visited[start] = True\n",
    "    current = start\n",
    "\n",
    "    for _ in range(n - 1):\n",
    "        next_city = None\n",
    "        min_dist = float('inf')\n",
    "        for city in range(n):\n",
    "            if not visited[city] and dist_matrix[current][city] < min_dist:\n",
    "                min_dist = dist_matrix[current][city]\n",
    "                next_city = city\n",
    "        visited[next_city] = True\n",
    "        path.append(next_city)\n",
    "        total_cost += min_dist\n",
    "        current = next_city\n",
    "\n",
    "    # Return to start city\n",
    "    total_cost += dist_matrix[current][start]\n",
    "    path.append(start)\n",
    "    return path, total_cost\n",
    "\n",
    "# Example usage\n",
    "dist_matrix = [\n",
    "    [0, 2, 9, 10],\n",
    "    [1, 0, 6, 4],\n",
    "    [15, 7, 0, 8],\n",
    "    [6, 3, 12, 0]\n",
    "]\n",
    "\n",
    "path, cost = tsp_nearest_neighbor(dist_matrix)\n",
    "print(\"Path:\", path)\n",
    "print(\"Total cost:\", cost)\n"
   ]
  },
  {
   "cell_type": "code",
   "execution_count": null,
   "id": "98f1b8d3-029c-437d-b35e-bf51a2baffe7",
   "metadata": {},
   "outputs": [],
   "source": []
  },
  {
   "cell_type": "code",
   "execution_count": null,
   "id": "e6943a50-bf36-4f25-a16a-22695c2f332b",
   "metadata": {},
   "outputs": [],
   "source": []
  }
 ],
 "metadata": {
  "kernelspec": {
   "display_name": "Python 3 (ipykernel)",
   "language": "python",
   "name": "python3"
  },
  "language_info": {
   "codemirror_mode": {
    "name": "ipython",
    "version": 3
   },
   "file_extension": ".py",
   "mimetype": "text/x-python",
   "name": "python",
   "nbconvert_exporter": "python",
   "pygments_lexer": "ipython3",
   "version": "3.12.7"
  }
 },
 "nbformat": 4,
 "nbformat_minor": 5
}
