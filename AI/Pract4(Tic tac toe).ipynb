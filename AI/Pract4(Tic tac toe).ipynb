{
 "cells": [
  {
   "cell_type": "code",
   "execution_count": null,
   "id": "1fdc4b8b-e548-4218-b831-26945e9d3b81",
   "metadata": {},
   "outputs": [
    {
     "name": "stdout",
     "output_type": "stream",
     "text": [
      "\n",
      "\n",
      "1 | 2 | 3\n",
      "---------\n",
      "4 | 5 | 6\n",
      "---------\n",
      "7 | 8 | 9\n",
      "---------\n"
     ]
    },
    {
     "name": "stdin",
     "output_type": "stream",
     "text": [
      "Player X, choose a position (1-9):  1\n"
     ]
    },
    {
     "name": "stdout",
     "output_type": "stream",
     "text": [
      "\n",
      "\n",
      "X | 2 | 3\n",
      "---------\n",
      "4 | 5 | 6\n",
      "---------\n",
      "7 | 8 | 9\n",
      "---------\n"
     ]
    },
    {
     "name": "stdin",
     "output_type": "stream",
     "text": [
      "Player O, choose a position (1-9):  3\n"
     ]
    },
    {
     "name": "stdout",
     "output_type": "stream",
     "text": [
      "\n",
      "\n",
      "X | 2 | O\n",
      "---------\n",
      "4 | 5 | 6\n",
      "---------\n",
      "7 | 8 | 9\n",
      "---------\n"
     ]
    }
   ],
   "source": [
    "# Tic-Tac-Toe Game in Python (2-player version)\n",
    "\n",
    "def print_board(board):\n",
    "    print(\"\\n\")\n",
    "    for row in board:\n",
    "        print(\" | \".join(row))\n",
    "        print(\"-\" * 9)\n",
    "\n",
    "def check_winner(board, player):\n",
    "    # Check rows\n",
    "    for row in board:\n",
    "        if all([cell == player for cell in row]):\n",
    "            return True\n",
    "    # Check columns\n",
    "    for col in range(3):\n",
    "        if all([board[row][col] == player for row in range(3)]):\n",
    "            return True\n",
    "    # Check diagonals\n",
    "    if all([board[i][i] == player for i in range(3)]) or \\\n",
    "       all([board[i][2 - i] == player for i in range(3)]):\n",
    "        return True\n",
    "    return False\n",
    "\n",
    "def is_draw(board):\n",
    "    return all([cell in ['X', 'O'] for row in board for cell in row])\n",
    "\n",
    "def main():\n",
    "    board = [[\"1\", \"2\", \"3\"], [\"4\", \"5\", \"6\"], [\"7\", \"8\", \"9\"]]\n",
    "    current_player = \"X\"\n",
    "\n",
    "    while True:\n",
    "        print_board(board)\n",
    "        move = input(f\"Player {current_player}, choose a position (1-9): \")\n",
    "\n",
    "        # Validate input\n",
    "        if move not in [str(num) for num in range(1, 10)]:\n",
    "            print(\"Invalid input. Try again.\")\n",
    "            continue\n",
    "\n",
    "        # Map move to board position\n",
    "        row = (int(move) - 1) // 3\n",
    "        col = (int(move) - 1) % 3\n",
    "\n",
    "        if board[row][col] in ['X', 'O']:\n",
    "            print(\"That spot is already taken. Try again.\")\n",
    "            continue\n",
    "\n",
    "        board[row][col] = current_player\n",
    "\n",
    "        if check_winner(board, current_player):\n",
    "            print_board(board)\n",
    "            print(f\"Player {current_player} wins!\")\n",
    "            break\n",
    "\n",
    "        if is_draw(board):\n",
    "            print_board(board)\n",
    "            print(\"It's a draw!\")\n",
    "            break\n",
    "\n",
    "        # Switch player\n",
    "        current_player = \"O\" if current_player == \"X\" else \"X\"\n",
    "\n",
    "if __name__ == \"__main__\":\n",
    "    main()\n"
   ]
  },
  {
   "cell_type": "code",
   "execution_count": null,
   "id": "ba26eecd-30cd-4cd3-8c28-f81ab44cee26",
   "metadata": {},
   "outputs": [],
   "source": []
  }
 ],
 "metadata": {
  "kernelspec": {
   "display_name": "Python 3 (ipykernel)",
   "language": "python",
   "name": "python3"
  },
  "language_info": {
   "codemirror_mode": {
    "name": "ipython",
    "version": 3
   },
   "file_extension": ".py",
   "mimetype": "text/x-python",
   "name": "python",
   "nbconvert_exporter": "python",
   "pygments_lexer": "ipython3",
   "version": "3.12.7"
  }
 },
 "nbformat": 4,
 "nbformat_minor": 5
}
